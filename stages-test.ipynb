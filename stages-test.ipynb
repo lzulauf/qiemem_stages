{
 "cells": [
  {
   "cell_type": "code",
   "execution_count": 1,
   "metadata": {},
   "outputs": [
    {
     "name": "stderr",
     "output_type": "stream",
     "text": [
      "Warning: Ignoring XDG_SESSION_TYPE=wayland on Gnome. Use QT_QPA_PLATFORM=wayland to run on Wayland anyway.\n"
     ]
    }
   ],
   "source": [
    "%matplotlib qt"
   ]
  },
  {
   "cell_type": "code",
   "execution_count": 2,
   "metadata": {},
   "outputs": [],
   "source": [
    "import matplotlib.pyplot as plt\n",
    "from scipy.io import wavfile\n",
    "from scipy import signal\n",
    "import numpy as np\n",
    "from glob import glob\n",
    "from scipy.ndimage.filters import gaussian_filter1d\n",
    "from scipy import signal"
   ]
  },
  {
   "cell_type": "code",
   "execution_count": 15,
   "metadata": {},
   "outputs": [
    {
     "name": "stdout",
     "output_type": "stream",
     "text": [
      "g++ -c -DTEST -g -Wall -Werror -msse2 -Wno-unused-variable -O2 -I. stages/test/stages_test.cc -o build/stages_test/stages_test.o\n",
      "g++ -g -o stages_test build/stages_test/stages_test.o build/stages_test/ramp_extractor.o build/stages_test/segment_generator.o build/stages_test/resources.o build/stages_test/units.o build/stages_test/random.o  -lm -lprofiler -L/opt/local/lib\n",
      "Rendering stepped LFO\n",
      "CPU times: user 178 ms, sys: 69.6 ms, total: 247 ms\n",
      "Wall time: 4.78 s\n"
     ]
    }
   ],
   "source": [
    "!make -f stages/test/makefile\n",
    "%time !./stages_test"
   ]
  },
  {
   "cell_type": "code",
   "execution_count": 3,
   "metadata": {},
   "outputs": [
    {
     "name": "stdout",
     "output_type": "stream",
     "text": [
      "✅ stages_timed_pulse.wav\n",
      "stock file not found for stages_tm_05.wav; skipping\n",
      "✅ stages_single_decay.wav\n",
      "stock file not found for stages_random_spline_lfo.wav; skipping\n",
      "✅ stages_free_running_lfo.wav\n",
      "stock file not found for stages_random_white_noise.wav; skipping\n",
      "✅ stages_portamento.wav\n",
      "stock file not found for stages_tap_lfo_audio_rate.wav; skipping\n",
      "stock file not found for stages_tm_00.wav; skipping\n",
      "stock file not found for stages_tm_50.wav; skipping\n",
      "stock file not found for stages_tm_25.wav; skipping\n",
      "✅ stages_two_step.wav\n",
      "stock file not found for stages_tm_50_quantized.wav; skipping\n",
      "stock file not found for stages_random_sine_lfo.wav; skipping\n",
      "stock file not found for stages_random_tap_lfo.wav; skipping\n",
      "✅ stages_tap_lfo.wav\n",
      "stock file not found for stages_random_brownian_lfo.wav; skipping\n",
      "stock file not found for stages_random_stepped_lfo.wav; skipping\n",
      "✅ stages_delay.wav\n",
      "✅ stages_sh.wav\n",
      "✅ stages_gate.wav\n",
      "✅ stages_adsr.wav\n",
      "stock file not found for stages_random_brown_noise.wav; skipping\n"
     ]
    }
   ],
   "source": [
    "new = {}\n",
    "stock = {}\n",
    "for fn in glob(\"stages_*wav\"):\n",
    "    try:\n",
    "        n = wavfile.read(fn)[1]\n",
    "    except Exception as e:\n",
    "        print(fn)\n",
    "        print(e)\n",
    "        continue\n",
    "    new[fn[:-4]] = n\n",
    "    try:\n",
    "        s = wavfile.read(f\"stages_test_reference/{fn}\")[1]\n",
    "        stock[fn[:-4]] = s\n",
    "    except:\n",
    "        print(f\"stock file not found for {fn}; skipping\")\n",
    "        continue\n",
    "    if (s==n).all():\n",
    "        print(f\"✅ {fn}\")\n",
    "    else:\n",
    "        print(f\"❌ {fn}\")\n",
    "        for i, label in enumerate([\"gate\", \"value\", \"segment\", \"phase\"]):\n",
    "            if (s.T[i] == n.T[i]).all():\n",
    "                print(f\"\\t✅ {label}\")\n",
    "            else:\n",
    "                ixs = np.where(s.T[i] != n.T[i])[0]\n",
    "                print(f\"\\t❌ {label}\")\n",
    "                plt.figure()\n",
    "                plt.plot(s.T[i], label=\"old\")\n",
    "                plt.plot(n.T[i], label=\"new\")\n",
    "                plt.title(f\"{fn} - {label}\")\n",
    "                plt.xlim(ixs[0], ixs[-1])\n",
    "                #plt.legend()"
   ]
  },
  {
   "cell_type": "code",
   "execution_count": 12,
   "metadata": {},
   "outputs": [
    {
     "data": {
      "text/plain": [
       "True"
      ]
     },
     "execution_count": 12,
     "metadata": {},
     "output_type": "execute_result"
    }
   ],
   "source": [
    "rand_tap = new[\"stages_random_tap_lfo\"].T\n",
    "((np.diff(rand_tap[0]) > 0) == (np.diff(rand_tap[1]) != 0)).all()\n"
   ]
  },
  {
   "cell_type": "code",
   "execution_count": 47,
   "metadata": {},
   "outputs": [
    {
     "data": {
      "text/plain": [
       "[<matplotlib.lines.Line2D at 0x7f67e53a6340>]"
      ]
     },
     "execution_count": 47,
     "metadata": {},
     "output_type": "execute_result"
    },
    {
     "data": {
      "application/vnd.jupyter.widget-view+json": {
       "model_id": "e4c62a1df4714d249e6a29c210e3571f",
       "version_major": 2,
       "version_minor": 0
      },
      "text/html": [
       "\n",
       "            <div style=\"display: inline-block;\">\n",
       "                <div class=\"jupyter-widgets widget-label\" style=\"text-align: center;\">\n",
       "                    Figure\n",
       "                </div>\n",
       "                <img src='data:image/png;base64,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' width=640.0/>\n",
       "            </div>\n",
       "        "
      ],
      "text/plain": [
       "Canvas(toolbar=Toolbar(toolitems=[('Home', 'Reset original view', 'home', 'home'), ('Back', 'Back to previous …"
      ]
     },
     "metadata": {},
     "output_type": "display_data"
    }
   ],
   "source": [
    "plt.figure()\n",
    "plt.loglog(*signal.welch(new[\"stages_random_white_noise\"].T[1], scaling=\"spectrum\"))\n",
    "plt.loglog(*signal.welch(new[\"stages_random_brown_noise\"].T[1], scaling=\"spectrum\"))"
   ]
  },
  {
   "cell_type": "code",
   "execution_count": 4,
   "metadata": {},
   "outputs": [],
   "source": [
    "phase = new[\"stages_tap_lfo_audio_rate\"].T[3]\n",
    "gate = new[\"stages_tap_lfo_audio_rate\"].T[0]"
   ]
  },
  {
   "cell_type": "code",
   "execution_count": 159,
   "metadata": {},
   "outputs": [],
   "source": [
    "phase_peaks = signal.find_peaks(phase)[0]\n",
    "gate_peaks = signal.find_peaks(gate)[0]\n"
   ]
  },
  {
   "cell_type": "code",
   "execution_count": 160,
   "metadata": {},
   "outputs": [
    {
     "data": {
      "text/plain": [
       "(1031.194960297181, 1031.1950632948974)"
      ]
     },
     "execution_count": 160,
     "metadata": {},
     "output_type": "execute_result"
    }
   ],
   "source": [
    "32000 / np.diff(phase_peaks).mean(), 32000 / np.diff(gate_peaks).mean()"
   ]
  },
  {
   "cell_type": "code",
   "execution_count": 5,
   "metadata": {},
   "outputs": [
    {
     "name": "stderr",
     "output_type": "stream",
     "text": [
      "libGL error: MESA-LOADER: failed to open iris: /home/bryan/mambaforge/lib/python3.9/site-packages/zmq/backend/cython/../../../../.././libstdc++.so.6: version `GLIBCXX_3.4.30' not found (required by /usr/lib64/dri/iris_dri.so) (search paths /usr/lib64/dri, suffix _dri)\n",
      "libGL error: failed to load driver: iris\n",
      "libGL error: MESA-LOADER: failed to open swrast: /home/bryan/mambaforge/lib/python3.9/site-packages/zmq/backend/cython/../../../../.././libstdc++.so.6: version `GLIBCXX_3.4.30' not found (required by /usr/lib64/dri/swrast_dri.so) (search paths /usr/lib64/dri, suffix _dri)\n",
      "libGL error: failed to load driver: swrast\n"
     ]
    },
    {
     "data": {
      "text/plain": [
       "[<matplotlib.lines.Line2D at 0x7fc99d54e220>]"
      ]
     },
     "execution_count": 5,
     "metadata": {},
     "output_type": "execute_result"
    }
   ],
   "source": [
    "plt.figure()\n",
    "plt.plot(gate)\n",
    "plt.plot(phase)\n"
   ]
  },
  {
   "cell_type": "code",
   "execution_count": null,
   "metadata": {},
   "outputs": [],
   "source": []
  }
 ],
 "metadata": {
  "kernelspec": {
   "display_name": "Python 3.9.7 ('base')",
   "language": "python",
   "name": "python3"
  },
  "language_info": {
   "codemirror_mode": {
    "name": "ipython",
    "version": 3
   },
   "file_extension": ".py",
   "mimetype": "text/x-python",
   "name": "python",
   "nbconvert_exporter": "python",
   "pygments_lexer": "ipython3",
   "version": "3.9.7"
  },
  "orig_nbformat": 4,
  "vscode": {
   "interpreter": {
    "hash": "06e7a93d91044ca22fd1a66cff107e2c77aaa2f41f48fd6bcc477bb9fc459b35"
   }
  }
 },
 "nbformat": 4,
 "nbformat_minor": 2
}
